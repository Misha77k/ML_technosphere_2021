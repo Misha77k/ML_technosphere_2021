{
 "cells": [
  {
   "cell_type": "code",
   "execution_count": 239,
   "metadata": {},
   "outputs": [],
   "source": [
    "import numpy as np\n",
    "import pandas as pd\n",
    "import matplotlib.pyplot as plt\n",
    "import datetime\n",
    "from scipy import stats\n",
    "import seaborn as sns\n",
    "import warnings\n",
    "\n",
    "warnings.filterwarnings('ignore')\n",
    "%matplotlib inline"
   ]
  },
  {
   "cell_type": "markdown",
   "metadata": {},
   "source": [
    "Для своего проекта я выбрал датасет LAS_Arrivals_2019 с Kaggle, который содержит информацию о задержанных рейсах, прибывающих в Лас-Вегас в течение 2019 года.\n",
    "\n",
    "Цель проекта: попытаться найти определенные зависимости в среднем времени задержки рейсов (в том числе сделать предсказание)"
   ]
  },
  {
   "cell_type": "code",
   "execution_count": 240,
   "metadata": {},
   "outputs": [
    {
     "data": {
      "text/html": [
       "<div>\n",
       "<style scoped>\n",
       "    .dataframe tbody tr th:only-of-type {\n",
       "        vertical-align: middle;\n",
       "    }\n",
       "\n",
       "    .dataframe tbody tr th {\n",
       "        vertical-align: top;\n",
       "    }\n",
       "\n",
       "    .dataframe thead th {\n",
       "        text-align: right;\n",
       "    }\n",
       "</style>\n",
       "<table border=\"1\" class=\"dataframe\">\n",
       "  <thead>\n",
       "    <tr style=\"text-align: right;\">\n",
       "      <th></th>\n",
       "      <th>carrier_code</th>\n",
       "      <th>date</th>\n",
       "      <th>flight_number</th>\n",
       "      <th>tail_number</th>\n",
       "      <th>origin_airport</th>\n",
       "      <th>scheduled_arrival_time</th>\n",
       "      <th>actual_arrival_time</th>\n",
       "      <th>scheduled_elapsed_time_minutes</th>\n",
       "      <th>actual_elapsed_time_minutes</th>\n",
       "      <th>arrival_delay_minutes</th>\n",
       "      <th>wheels-on_time</th>\n",
       "      <th>taxi-in_time_minutes</th>\n",
       "      <th>delay_carrier_minutes</th>\n",
       "      <th>delay_weather_minutes</th>\n",
       "      <th>delay_national_aviation_system_minutes</th>\n",
       "      <th>delay_security_minutes</th>\n",
       "      <th>delay_late_aircraft_arrival_minutes</th>\n",
       "    </tr>\n",
       "  </thead>\n",
       "  <tbody>\n",
       "    <tr>\n",
       "      <th>0</th>\n",
       "      <td>G4</td>\n",
       "      <td>01/01/2019</td>\n",
       "      <td>3</td>\n",
       "      <td>312NV</td>\n",
       "      <td>FAT</td>\n",
       "      <td>17:25</td>\n",
       "      <td>17:17</td>\n",
       "      <td>70</td>\n",
       "      <td>67</td>\n",
       "      <td>-8</td>\n",
       "      <td>17:12</td>\n",
       "      <td>5</td>\n",
       "      <td>0</td>\n",
       "      <td>0</td>\n",
       "      <td>0</td>\n",
       "      <td>0</td>\n",
       "      <td>0</td>\n",
       "    </tr>\n",
       "    <tr>\n",
       "      <th>1</th>\n",
       "      <td>G4</td>\n",
       "      <td>01/01/2019</td>\n",
       "      <td>35</td>\n",
       "      <td>306NV</td>\n",
       "      <td>RNO</td>\n",
       "      <td>12:23</td>\n",
       "      <td>12:11</td>\n",
       "      <td>76</td>\n",
       "      <td>68</td>\n",
       "      <td>-12</td>\n",
       "      <td>12:07</td>\n",
       "      <td>4</td>\n",
       "      <td>0</td>\n",
       "      <td>0</td>\n",
       "      <td>0</td>\n",
       "      <td>0</td>\n",
       "      <td>0</td>\n",
       "    </tr>\n",
       "    <tr>\n",
       "      <th>2</th>\n",
       "      <td>G4</td>\n",
       "      <td>01/01/2019</td>\n",
       "      <td>133</td>\n",
       "      <td>306NV</td>\n",
       "      <td>SCK</td>\n",
       "      <td>16:29</td>\n",
       "      <td>16:29</td>\n",
       "      <td>73</td>\n",
       "      <td>65</td>\n",
       "      <td>0</td>\n",
       "      <td>16:22</td>\n",
       "      <td>7</td>\n",
       "      <td>0</td>\n",
       "      <td>0</td>\n",
       "      <td>0</td>\n",
       "      <td>0</td>\n",
       "      <td>0</td>\n",
       "    </tr>\n",
       "    <tr>\n",
       "      <th>3</th>\n",
       "      <td>G4</td>\n",
       "      <td>01/01/2019</td>\n",
       "      <td>710</td>\n",
       "      <td>311NV</td>\n",
       "      <td>BLI</td>\n",
       "      <td>18:23</td>\n",
       "      <td>17:56</td>\n",
       "      <td>152</td>\n",
       "      <td>139</td>\n",
       "      <td>-27</td>\n",
       "      <td>17:50</td>\n",
       "      <td>6</td>\n",
       "      <td>0</td>\n",
       "      <td>0</td>\n",
       "      <td>0</td>\n",
       "      <td>0</td>\n",
       "      <td>0</td>\n",
       "    </tr>\n",
       "    <tr>\n",
       "      <th>4</th>\n",
       "      <td>G4</td>\n",
       "      <td>01/01/2019</td>\n",
       "      <td>2808</td>\n",
       "      <td>225NV</td>\n",
       "      <td>CVG</td>\n",
       "      <td>13:03</td>\n",
       "      <td>13:39</td>\n",
       "      <td>243</td>\n",
       "      <td>263</td>\n",
       "      <td>36</td>\n",
       "      <td>13:28</td>\n",
       "      <td>11</td>\n",
       "      <td>16</td>\n",
       "      <td>0</td>\n",
       "      <td>20</td>\n",
       "      <td>0</td>\n",
       "      <td>0</td>\n",
       "    </tr>\n",
       "    <tr>\n",
       "      <th>5</th>\n",
       "      <td>G4</td>\n",
       "      <td>01/02/2019</td>\n",
       "      <td>3</td>\n",
       "      <td>302NV</td>\n",
       "      <td>FAT</td>\n",
       "      <td>21:40</td>\n",
       "      <td>21:34</td>\n",
       "      <td>67</td>\n",
       "      <td>68</td>\n",
       "      <td>-6</td>\n",
       "      <td>21:24</td>\n",
       "      <td>10</td>\n",
       "      <td>0</td>\n",
       "      <td>0</td>\n",
       "      <td>0</td>\n",
       "      <td>0</td>\n",
       "      <td>0</td>\n",
       "    </tr>\n",
       "    <tr>\n",
       "      <th>6</th>\n",
       "      <td>G4</td>\n",
       "      <td>01/02/2019</td>\n",
       "      <td>7</td>\n",
       "      <td>307NV</td>\n",
       "      <td>SGF</td>\n",
       "      <td>21:50</td>\n",
       "      <td>22:39</td>\n",
       "      <td>185</td>\n",
       "      <td>173</td>\n",
       "      <td>49</td>\n",
       "      <td>22:32</td>\n",
       "      <td>7</td>\n",
       "      <td>0</td>\n",
       "      <td>0</td>\n",
       "      <td>4</td>\n",
       "      <td>0</td>\n",
       "      <td>45</td>\n",
       "    </tr>\n",
       "    <tr>\n",
       "      <th>7</th>\n",
       "      <td>G4</td>\n",
       "      <td>01/02/2019</td>\n",
       "      <td>11</td>\n",
       "      <td>319NV</td>\n",
       "      <td>TUL</td>\n",
       "      <td>13:49</td>\n",
       "      <td>13:30</td>\n",
       "      <td>175</td>\n",
       "      <td>161</td>\n",
       "      <td>-19</td>\n",
       "      <td>13:22</td>\n",
       "      <td>8</td>\n",
       "      <td>0</td>\n",
       "      <td>0</td>\n",
       "      <td>0</td>\n",
       "      <td>0</td>\n",
       "      <td>0</td>\n",
       "    </tr>\n",
       "    <tr>\n",
       "      <th>8</th>\n",
       "      <td>G4</td>\n",
       "      <td>01/02/2019</td>\n",
       "      <td>15</td>\n",
       "      <td>317NV</td>\n",
       "      <td>GJT</td>\n",
       "      <td>11:20</td>\n",
       "      <td>15:28</td>\n",
       "      <td>85</td>\n",
       "      <td>71</td>\n",
       "      <td>248</td>\n",
       "      <td>15:23</td>\n",
       "      <td>5</td>\n",
       "      <td>248</td>\n",
       "      <td>0</td>\n",
       "      <td>0</td>\n",
       "      <td>0</td>\n",
       "      <td>0</td>\n",
       "    </tr>\n",
       "    <tr>\n",
       "      <th>9</th>\n",
       "      <td>G4</td>\n",
       "      <td>01/02/2019</td>\n",
       "      <td>21</td>\n",
       "      <td>313NV</td>\n",
       "      <td>MFE</td>\n",
       "      <td>21:48</td>\n",
       "      <td>22:08</td>\n",
       "      <td>180</td>\n",
       "      <td>183</td>\n",
       "      <td>20</td>\n",
       "      <td>22:01</td>\n",
       "      <td>7</td>\n",
       "      <td>11</td>\n",
       "      <td>0</td>\n",
       "      <td>3</td>\n",
       "      <td>0</td>\n",
       "      <td>6</td>\n",
       "    </tr>\n",
       "  </tbody>\n",
       "</table>\n",
       "</div>"
      ],
      "text/plain": [
       "  carrier_code        date  flight_number tail_number origin_airport  \\\n",
       "0           G4  01/01/2019              3       312NV            FAT   \n",
       "1           G4  01/01/2019             35       306NV            RNO   \n",
       "2           G4  01/01/2019            133       306NV            SCK   \n",
       "3           G4  01/01/2019            710       311NV            BLI   \n",
       "4           G4  01/01/2019           2808       225NV            CVG   \n",
       "5           G4  01/02/2019              3       302NV            FAT   \n",
       "6           G4  01/02/2019              7       307NV            SGF   \n",
       "7           G4  01/02/2019             11       319NV            TUL   \n",
       "8           G4  01/02/2019             15       317NV            GJT   \n",
       "9           G4  01/02/2019             21       313NV            MFE   \n",
       "\n",
       "  scheduled_arrival_time actual_arrival_time  scheduled_elapsed_time_minutes  \\\n",
       "0                  17:25               17:17                              70   \n",
       "1                  12:23               12:11                              76   \n",
       "2                  16:29               16:29                              73   \n",
       "3                  18:23               17:56                             152   \n",
       "4                  13:03               13:39                             243   \n",
       "5                  21:40               21:34                              67   \n",
       "6                  21:50               22:39                             185   \n",
       "7                  13:49               13:30                             175   \n",
       "8                  11:20               15:28                              85   \n",
       "9                  21:48               22:08                             180   \n",
       "\n",
       "   actual_elapsed_time_minutes  arrival_delay_minutes wheels-on_time  \\\n",
       "0                           67                     -8          17:12   \n",
       "1                           68                    -12          12:07   \n",
       "2                           65                      0          16:22   \n",
       "3                          139                    -27          17:50   \n",
       "4                          263                     36          13:28   \n",
       "5                           68                     -6          21:24   \n",
       "6                          173                     49          22:32   \n",
       "7                          161                    -19          13:22   \n",
       "8                           71                    248          15:23   \n",
       "9                          183                     20          22:01   \n",
       "\n",
       "   taxi-in_time_minutes  delay_carrier_minutes  delay_weather_minutes  \\\n",
       "0                     5                      0                      0   \n",
       "1                     4                      0                      0   \n",
       "2                     7                      0                      0   \n",
       "3                     6                      0                      0   \n",
       "4                    11                     16                      0   \n",
       "5                    10                      0                      0   \n",
       "6                     7                      0                      0   \n",
       "7                     8                      0                      0   \n",
       "8                     5                    248                      0   \n",
       "9                     7                     11                      0   \n",
       "\n",
       "   delay_national_aviation_system_minutes  delay_security_minutes  \\\n",
       "0                                       0                       0   \n",
       "1                                       0                       0   \n",
       "2                                       0                       0   \n",
       "3                                       0                       0   \n",
       "4                                      20                       0   \n",
       "5                                       0                       0   \n",
       "6                                       4                       0   \n",
       "7                                       0                       0   \n",
       "8                                       0                       0   \n",
       "9                                       3                       0   \n",
       "\n",
       "   delay_late_aircraft_arrival_minutes  \n",
       "0                                    0  \n",
       "1                                    0  \n",
       "2                                    0  \n",
       "3                                    0  \n",
       "4                                    0  \n",
       "5                                    0  \n",
       "6                                   45  \n",
       "7                                    0  \n",
       "8                                    0  \n",
       "9                                    6  "
      ]
     },
     "execution_count": 240,
     "metadata": {},
     "output_type": "execute_result"
    }
   ],
   "source": [
    "df = pd.read_csv('/Users/mac/Downloads/LAS_Arrivals_2019.csv')\n",
    "count_data = len(df)\n",
    "df.head(10)"
   ]
  },
  {
   "cell_type": "markdown",
   "metadata": {},
   "source": [
    "Информация о таблице с данными.\n",
    "\n",
    "carrier_code - уникальный код авиакомпании\n",
    "\n",
    "date - дата прилета самолета\n",
    "\n",
    "flight_number - номер рейса\n",
    "\n",
    "tall_number - номер самолета\n",
    "\n",
    "origin_airport - наименование аэропорта, откуда вылетали самолеты\n",
    "\n",
    "scheduled_arrival_time - ожидаемое время прилета\n",
    "\n",
    "actual_arrival_time - реальное время прилета (время, когда люди непосредственно выходят из самолета)\n",
    "\n",
    "scheduled_elapsed_time_minutes - ожидаемое время полета (выражено в минутах)\n",
    "\n",
    "actual_elapsed_time_minutes - реальное время полета (выражено в минутах)\n",
    "\n",
    "arrival_delay_minutes - разница между реальным и ожидаемым временем полета (выражено в минутах)\n",
    "\n",
    "wheels_on_time - время посадки\n",
    "\n",
    "taxi_in_time_minutes - время ожидания автобуса, который отвозит людей из самолета в аэропорт\n",
    "\n",
    "delay_carrier_minutes - время задержки по причинам, связаным с авиакомпанией (например, проблемы с техническим обслуживанием или экипажем)\n",
    "\n",
    "delay_weather_minutes - время задержки из-за погодных условий\n",
    "\n",
    "delay_security_minutes - время задержки, причины которых как-то связаны с вопросами безопасности\n",
    "\n",
    "delay_national_aviation_system_minutes - время задержки, связанной с национальной авиационной системой\n",
    "\n",
    "delay_late_aircraft_arrival_minutes - время задержки, причина которой состоит в том, что текущий рейс вылетел с опозданием из-за того, что предыдущий рейс прибыл с опозданием\n",
    "\n",
    "Теперь выведем информацию о типах данных в таблице"
   ]
  },
  {
   "cell_type": "code",
   "execution_count": 241,
   "metadata": {},
   "outputs": [
    {
     "name": "stdout",
     "output_type": "stream",
     "text": [
      "<class 'pandas.core.frame.DataFrame'>\n",
      "RangeIndex: 164045 entries, 0 to 164044\n",
      "Data columns (total 17 columns):\n",
      " #   Column                                  Non-Null Count   Dtype \n",
      "---  ------                                  --------------   ----- \n",
      " 0   carrier_code                            164045 non-null  object\n",
      " 1   date                                    164045 non-null  object\n",
      " 2   flight_number                           164045 non-null  int64 \n",
      " 3   tail_number                             163546 non-null  object\n",
      " 4   origin_airport                          164045 non-null  object\n",
      " 5   scheduled_arrival_time                  164045 non-null  object\n",
      " 6   actual_arrival_time                     164045 non-null  object\n",
      " 7   scheduled_elapsed_time_minutes          164045 non-null  int64 \n",
      " 8   actual_elapsed_time_minutes             164045 non-null  int64 \n",
      " 9   arrival_delay_minutes                   164045 non-null  int64 \n",
      " 10  wheels-on_time                          164045 non-null  object\n",
      " 11  taxi-in_time_minutes                    164045 non-null  int64 \n",
      " 12  delay_carrier_minutes                   164045 non-null  int64 \n",
      " 13  delay_weather_minutes                   164045 non-null  int64 \n",
      " 14  delay_national_aviation_system_minutes  164045 non-null  int64 \n",
      " 15  delay_security_minutes                  164045 non-null  int64 \n",
      " 16  delay_late_aircraft_arrival_minutes     164045 non-null  int64 \n",
      "dtypes: int64(10), object(7)\n",
      "memory usage: 21.3+ MB\n"
     ]
    }
   ],
   "source": [
    "df.info()"
   ]
  },
  {
   "cell_type": "markdown",
   "metadata": {},
   "source": [
    "### Предобработка данных ###"
   ]
  },
  {
   "cell_type": "markdown",
   "metadata": {},
   "source": [
    "Некоторые поля я не планирую использовать ни при проверке гипотез ни в прогнозировании временного ряда, поэтому я удалю соответствующие им столбцы. Когда я буду делать предсказание по временному ряду, я еще изменю таблицу, сделая определенную агрегацию данных"
   ]
  },
  {
   "cell_type": "code",
   "execution_count": 242,
   "metadata": {},
   "outputs": [
    {
     "data": {
      "text/html": [
       "<div>\n",
       "<style scoped>\n",
       "    .dataframe tbody tr th:only-of-type {\n",
       "        vertical-align: middle;\n",
       "    }\n",
       "\n",
       "    .dataframe tbody tr th {\n",
       "        vertical-align: top;\n",
       "    }\n",
       "\n",
       "    .dataframe thead th {\n",
       "        text-align: right;\n",
       "    }\n",
       "</style>\n",
       "<table border=\"1\" class=\"dataframe\">\n",
       "  <thead>\n",
       "    <tr style=\"text-align: right;\">\n",
       "      <th></th>\n",
       "      <th>carrier_code</th>\n",
       "      <th>date</th>\n",
       "      <th>origin_airport</th>\n",
       "      <th>arrival_delay_minutes</th>\n",
       "      <th>wheels-on_time</th>\n",
       "      <th>taxi-in_time_minutes</th>\n",
       "      <th>delay_carrier_minutes</th>\n",
       "      <th>delay_weather_minutes</th>\n",
       "      <th>delay_national_aviation_system_minutes</th>\n",
       "      <th>delay_security_minutes</th>\n",
       "      <th>delay_late_aircraft_arrival_minutes</th>\n",
       "    </tr>\n",
       "  </thead>\n",
       "  <tbody>\n",
       "    <tr>\n",
       "      <th>0</th>\n",
       "      <td>G4</td>\n",
       "      <td>01/01/2019</td>\n",
       "      <td>FAT</td>\n",
       "      <td>-8</td>\n",
       "      <td>17:12</td>\n",
       "      <td>5</td>\n",
       "      <td>0</td>\n",
       "      <td>0</td>\n",
       "      <td>0</td>\n",
       "      <td>0</td>\n",
       "      <td>0</td>\n",
       "    </tr>\n",
       "    <tr>\n",
       "      <th>1</th>\n",
       "      <td>G4</td>\n",
       "      <td>01/01/2019</td>\n",
       "      <td>RNO</td>\n",
       "      <td>-12</td>\n",
       "      <td>12:07</td>\n",
       "      <td>4</td>\n",
       "      <td>0</td>\n",
       "      <td>0</td>\n",
       "      <td>0</td>\n",
       "      <td>0</td>\n",
       "      <td>0</td>\n",
       "    </tr>\n",
       "    <tr>\n",
       "      <th>2</th>\n",
       "      <td>G4</td>\n",
       "      <td>01/01/2019</td>\n",
       "      <td>SCK</td>\n",
       "      <td>0</td>\n",
       "      <td>16:22</td>\n",
       "      <td>7</td>\n",
       "      <td>0</td>\n",
       "      <td>0</td>\n",
       "      <td>0</td>\n",
       "      <td>0</td>\n",
       "      <td>0</td>\n",
       "    </tr>\n",
       "    <tr>\n",
       "      <th>3</th>\n",
       "      <td>G4</td>\n",
       "      <td>01/01/2019</td>\n",
       "      <td>BLI</td>\n",
       "      <td>-27</td>\n",
       "      <td>17:50</td>\n",
       "      <td>6</td>\n",
       "      <td>0</td>\n",
       "      <td>0</td>\n",
       "      <td>0</td>\n",
       "      <td>0</td>\n",
       "      <td>0</td>\n",
       "    </tr>\n",
       "    <tr>\n",
       "      <th>4</th>\n",
       "      <td>G4</td>\n",
       "      <td>01/01/2019</td>\n",
       "      <td>CVG</td>\n",
       "      <td>36</td>\n",
       "      <td>13:28</td>\n",
       "      <td>11</td>\n",
       "      <td>16</td>\n",
       "      <td>0</td>\n",
       "      <td>20</td>\n",
       "      <td>0</td>\n",
       "      <td>0</td>\n",
       "    </tr>\n",
       "    <tr>\n",
       "      <th>...</th>\n",
       "      <td>...</td>\n",
       "      <td>...</td>\n",
       "      <td>...</td>\n",
       "      <td>...</td>\n",
       "      <td>...</td>\n",
       "      <td>...</td>\n",
       "      <td>...</td>\n",
       "      <td>...</td>\n",
       "      <td>...</td>\n",
       "      <td>...</td>\n",
       "      <td>...</td>\n",
       "    </tr>\n",
       "    <tr>\n",
       "      <th>164040</th>\n",
       "      <td>AS</td>\n",
       "      <td>12/31/2019</td>\n",
       "      <td>SFO</td>\n",
       "      <td>-16</td>\n",
       "      <td>12:31</td>\n",
       "      <td>7</td>\n",
       "      <td>0</td>\n",
       "      <td>0</td>\n",
       "      <td>0</td>\n",
       "      <td>0</td>\n",
       "      <td>0</td>\n",
       "    </tr>\n",
       "    <tr>\n",
       "      <th>164041</th>\n",
       "      <td>AS</td>\n",
       "      <td>12/31/2019</td>\n",
       "      <td>SFO</td>\n",
       "      <td>3</td>\n",
       "      <td>16:39</td>\n",
       "      <td>8</td>\n",
       "      <td>0</td>\n",
       "      <td>0</td>\n",
       "      <td>0</td>\n",
       "      <td>0</td>\n",
       "      <td>0</td>\n",
       "    </tr>\n",
       "    <tr>\n",
       "      <th>164042</th>\n",
       "      <td>AS</td>\n",
       "      <td>12/31/2019</td>\n",
       "      <td>SFO</td>\n",
       "      <td>-16</td>\n",
       "      <td>21:17</td>\n",
       "      <td>6</td>\n",
       "      <td>0</td>\n",
       "      <td>0</td>\n",
       "      <td>0</td>\n",
       "      <td>0</td>\n",
       "      <td>0</td>\n",
       "    </tr>\n",
       "    <tr>\n",
       "      <th>164043</th>\n",
       "      <td>AS</td>\n",
       "      <td>12/31/2019</td>\n",
       "      <td>SFO</td>\n",
       "      <td>-16</td>\n",
       "      <td>18:04</td>\n",
       "      <td>9</td>\n",
       "      <td>0</td>\n",
       "      <td>0</td>\n",
       "      <td>0</td>\n",
       "      <td>0</td>\n",
       "      <td>0</td>\n",
       "    </tr>\n",
       "    <tr>\n",
       "      <th>164044</th>\n",
       "      <td>AS</td>\n",
       "      <td>12/31/2019</td>\n",
       "      <td>SEA</td>\n",
       "      <td>-9</td>\n",
       "      <td>10:30</td>\n",
       "      <td>5</td>\n",
       "      <td>0</td>\n",
       "      <td>0</td>\n",
       "      <td>0</td>\n",
       "      <td>0</td>\n",
       "      <td>0</td>\n",
       "    </tr>\n",
       "  </tbody>\n",
       "</table>\n",
       "<p>164045 rows × 11 columns</p>\n",
       "</div>"
      ],
      "text/plain": [
       "       carrier_code        date origin_airport  arrival_delay_minutes  \\\n",
       "0                G4  01/01/2019            FAT                     -8   \n",
       "1                G4  01/01/2019            RNO                    -12   \n",
       "2                G4  01/01/2019            SCK                      0   \n",
       "3                G4  01/01/2019            BLI                    -27   \n",
       "4                G4  01/01/2019            CVG                     36   \n",
       "...             ...         ...            ...                    ...   \n",
       "164040           AS  12/31/2019            SFO                    -16   \n",
       "164041           AS  12/31/2019            SFO                      3   \n",
       "164042           AS  12/31/2019            SFO                    -16   \n",
       "164043           AS  12/31/2019            SFO                    -16   \n",
       "164044           AS  12/31/2019            SEA                     -9   \n",
       "\n",
       "       wheels-on_time  taxi-in_time_minutes  delay_carrier_minutes  \\\n",
       "0               17:12                     5                      0   \n",
       "1               12:07                     4                      0   \n",
       "2               16:22                     7                      0   \n",
       "3               17:50                     6                      0   \n",
       "4               13:28                    11                     16   \n",
       "...               ...                   ...                    ...   \n",
       "164040          12:31                     7                      0   \n",
       "164041          16:39                     8                      0   \n",
       "164042          21:17                     6                      0   \n",
       "164043          18:04                     9                      0   \n",
       "164044          10:30                     5                      0   \n",
       "\n",
       "        delay_weather_minutes  delay_national_aviation_system_minutes  \\\n",
       "0                           0                                       0   \n",
       "1                           0                                       0   \n",
       "2                           0                                       0   \n",
       "3                           0                                       0   \n",
       "4                           0                                      20   \n",
       "...                       ...                                     ...   \n",
       "164040                      0                                       0   \n",
       "164041                      0                                       0   \n",
       "164042                      0                                       0   \n",
       "164043                      0                                       0   \n",
       "164044                      0                                       0   \n",
       "\n",
       "        delay_security_minutes  delay_late_aircraft_arrival_minutes  \n",
       "0                            0                                    0  \n",
       "1                            0                                    0  \n",
       "2                            0                                    0  \n",
       "3                            0                                    0  \n",
       "4                            0                                    0  \n",
       "...                        ...                                  ...  \n",
       "164040                       0                                    0  \n",
       "164041                       0                                    0  \n",
       "164042                       0                                    0  \n",
       "164043                       0                                    0  \n",
       "164044                       0                                    0  \n",
       "\n",
       "[164045 rows x 11 columns]"
      ]
     },
     "execution_count": 242,
     "metadata": {},
     "output_type": "execute_result"
    }
   ],
   "source": [
    "df = df.drop(['tail_number', 'flight_number', 'scheduled_elapsed_time_minutes', 'actual_elapsed_time_minutes',\n",
    "         'scheduled_arrival_time', 'actual_arrival_time'], axis=1)\n",
    "df"
   ]
  },
  {
   "cell_type": "markdown",
   "metadata": {},
   "source": [
    "### Визуализация данных ###"
   ]
  },
  {
   "cell_type": "markdown",
   "metadata": {},
   "source": [
    "Посмотрим на возможную зависимость общего времени задержки за весь год от авиакомпании"
   ]
  },
  {
   "cell_type": "code",
   "execution_count": 243,
   "metadata": {},
   "outputs": [],
   "source": [
    "df2 = df[['carrier_code', 'arrival_delay_minutes']].groupby(['carrier_code']).count()"
   ]
  },
  {
   "cell_type": "code",
   "execution_count": 244,
   "metadata": {},
   "outputs": [],
   "source": [
    "df1 = df[['carrier_code', 'arrival_delay_minutes']].groupby(['carrier_code']).mean()"
   ]
  },
  {
   "cell_type": "code",
   "execution_count": 245,
   "metadata": {},
   "outputs": [
    {
     "data": {
      "image/png": "[encoded data removed]",
      "text/plain": [
       "<Figure size 1728x432 with 2 Axes>"
      ]
     },
     "metadata": {
      "needs_background": "light"
     },
     "output_type": "display_data"
    }
   ],
   "source": [
    "plt.figure(figsize=(24, 6))\n",
    "\n",
    "ax1 = plt.subplot(121)\n",
    "plt.bar(np.arange(11), df1['arrival_delay_minutes'])\n",
    "plt.xticks(np.arange(11), df1.index)\n",
    "\n",
    "ax2 = plt.subplot(122)\n",
    "plt.pie(df2['arrival_delay_minutes'], labels=df2.index)\n",
    "\n",
    "plt.show()"
   ]
  },
  {
   "cell_type": "markdown",
   "metadata": {},
   "source": [
    "Как можно увидеть, только одна компания в среднем прилетала раньше положенного времени - это \"DL\". Также стоит отметить, что \"F9\" - авиакомпания с самым большим средним временем задержки (почти 14 минут), а \"WIN\" - самая частоиспользуемая авиакомпания."
   ]
  },
  {
   "cell_type": "markdown",
   "metadata": {},
   "source": [
    "Теперь посмотрим на зависимость дней 2019 года на среднюю задержку прибытия рейсов"
   ]
  },
  {
   "cell_type": "code",
   "execution_count": 246,
   "metadata": {},
   "outputs": [
    {
     "data": {
      "image/png": "[encoded data removed]",
      "text/plain": [
       "<Figure size 1152x504 with 1 Axes>"
      ]
     },
     "metadata": {
      "needs_background": "light"
     },
     "output_type": "display_data"
    }
   ],
   "source": [
    "df3 = df[['date', 'arrival_delay_minutes']].groupby(['date']).mean()\n",
    "\n",
    "plt.figure(figsize=(16, 7))\n",
    "plt.plot(np.arange(365), df3['arrival_delay_minutes'])\n",
    "#plt.xticks(np.arange(365), df3.index)\n",
    "plt.show()"
   ]
  },
  {
   "cell_type": "markdown",
   "metadata": {},
   "source": [
    "Здесь сложно увидеть какую-то четкую зависимость, однако есть несколько дней с аномально большой средней задержкой.\n",
    "Выведем их"
   ]
  },
  {
   "cell_type": "code",
   "execution_count": 247,
   "metadata": {},
   "outputs": [
    {
     "data": {
      "text/html": [
       "<div>\n",
       "<style scoped>\n",
       "    .dataframe tbody tr th:only-of-type {\n",
       "        vertical-align: middle;\n",
       "    }\n",
       "\n",
       "    .dataframe tbody tr th {\n",
       "        vertical-align: top;\n",
       "    }\n",
       "\n",
       "    .dataframe thead th {\n",
       "        text-align: right;\n",
       "    }\n",
       "</style>\n",
       "<table border=\"1\" class=\"dataframe\">\n",
       "  <thead>\n",
       "    <tr style=\"text-align: right;\">\n",
       "      <th></th>\n",
       "      <th>arrival_delay_minutes</th>\n",
       "    </tr>\n",
       "    <tr>\n",
       "      <th>date</th>\n",
       "      <th></th>\n",
       "    </tr>\n",
       "  </thead>\n",
       "  <tbody>\n",
       "    <tr>\n",
       "      <th>04/29/2019</th>\n",
       "      <td>58.672917</td>\n",
       "    </tr>\n",
       "    <tr>\n",
       "      <th>02/14/2019</th>\n",
       "      <td>58.244493</td>\n",
       "    </tr>\n",
       "    <tr>\n",
       "      <th>12/04/2019</th>\n",
       "      <td>53.236641</td>\n",
       "    </tr>\n",
       "    <tr>\n",
       "      <th>02/02/2019</th>\n",
       "      <td>44.977778</td>\n",
       "    </tr>\n",
       "    <tr>\n",
       "      <th>12/26/2019</th>\n",
       "      <td>42.922551</td>\n",
       "    </tr>\n",
       "    <tr>\n",
       "      <th>11/20/2019</th>\n",
       "      <td>36.778824</td>\n",
       "    </tr>\n",
       "  </tbody>\n",
       "</table>\n",
       "</div>"
      ],
      "text/plain": [
       "            arrival_delay_minutes\n",
       "date                             \n",
       "04/29/2019              58.672917\n",
       "02/14/2019              58.244493\n",
       "12/04/2019              53.236641\n",
       "02/02/2019              44.977778\n",
       "12/26/2019              42.922551\n",
       "11/20/2019              36.778824"
      ]
     },
     "execution_count": 247,
     "metadata": {},
     "output_type": "execute_result"
    }
   ],
   "source": [
    "df3.sort_values(['arrival_delay_minutes'], ascending=False)[:6]"
   ]
  },
  {
   "cell_type": "markdown",
   "metadata": {},
   "source": [
    "В нашем датасете столбцы: \"delay_carrier_minutes\", \"delay_weather_minutes\", \"delay_national_aviation_system_minutes\", \"delay_security_minutes\" и \"delay_late_aircraft_arrival_minutes\", отвечают за причины задержки прибытия наших рейсов. Посмотрим какая из причин действовала чаще всего."
   ]
  },
  {
   "cell_type": "code",
   "execution_count": 248,
   "metadata": {},
   "outputs": [
    {
     "name": "stdout",
     "output_type": "stream",
     "text": [
      "[15938.  1237. 16300.   147. 16581.]\n"
     ]
    },
    {
     "data": {
      "image/png": "[encoded data removed]",
      "text/plain": [
       "<Figure size 432x288 with 1 Axes>"
      ]
     },
     "metadata": {
      "needs_background": "light"
     },
     "output_type": "display_data"
    }
   ],
   "source": [
    "df4 = df.astype(bool).sum(axis=0)\n",
    "\n",
    "ind = ['delay_carrier_minutes', 'delay_weather_minutes', 'delay_national_aviation_system_minutes',\n",
    "      'delay_security_minutes', 'delay_late_aircraft_arrival_minutes']\n",
    "x = np.zeros(5)\n",
    "x[0] = df4.loc['delay_carrier_minutes']\n",
    "x[1] = df4.loc['delay_weather_minutes']\n",
    "x[2] = df4.loc['delay_national_aviation_system_minutes']\n",
    "x[3] = df4.loc['delay_security_minutes']\n",
    "x[4] = df4.loc['delay_late_aircraft_arrival_minutes']\n",
    "print(x)\n",
    "\n",
    "plt.barh(np.arange(5), x)\n",
    "plt.yticks(np.arange(5), ind)\n",
    "plt.show()"
   ]
  },
  {
   "cell_type": "markdown",
   "metadata": {},
   "source": [
    "С уверенностью можно сказать, что из-за погоды и обстоятельств, связанных с безопасностью, рейсы задерживались достаточно редко"
   ]
  },
  {
   "cell_type": "markdown",
   "metadata": {},
   "source": [
    "### Проверка гипотез ###"
   ]
  },
  {
   "cell_type": "markdown",
   "metadata": {},
   "source": [
    "**Первая гипотеза**: Возьмем рейсы одной авиакомпании (пусть это будет \"G4\"). Хочется понять, есть ли какая-то зависимость задержки рейса от аэропорта, откуда прилетают самолеты этой авиакомпании ?"
   ]
  },
  {
   "cell_type": "markdown",
   "metadata": {},
   "source": [
    "H0: от аэропорта не зависит\n",
    "\n",
    "H1: от аэропорта зависит"
   ]
  },
  {
   "cell_type": "code",
   "execution_count": 249,
   "metadata": {},
   "outputs": [
    {
     "data": {
      "text/plain": [
       "Index(['ABQ', 'ATW', 'AUS', 'AZA', 'BIL', 'BIS', 'BLI', 'BLV', 'BOI', 'BZN',\n",
       "       'CID', 'CVG', 'DSM', 'ELP', 'EUG', 'FAR', 'FAT', 'FCA', 'FSD', 'GFK',\n",
       "       'GJT', 'GRI', 'GRR', 'GTF', 'ICT', 'IDA', 'IND', 'LAX', 'LRD', 'MEM',\n",
       "       'MFE', 'MFR', 'MLI', 'MOT', 'MRY', 'MSO', 'OAK', 'OKC', 'OMA', 'PIA',\n",
       "       'PSC', 'RAP', 'RDM', 'RFD', 'RNO', 'SAT', 'SBN', 'SCK', 'SDF', 'SGF',\n",
       "       'SHV', 'SMX', 'TUL', 'TYS', 'XNA'],\n",
       "      dtype='object', name='origin_airport')"
      ]
     },
     "execution_count": 249,
     "metadata": {},
     "output_type": "execute_result"
    }
   ],
   "source": [
    "#Вначале выведем все аэропорты, откуда прилетают самолеты G4\n",
    "df5 = df[df['carrier_code'] == 'G4'].groupby(['origin_airport']).count()\n",
    "airp = df5.index\n",
    "airp"
   ]
  },
  {
   "cell_type": "code",
   "execution_count": 250,
   "metadata": {},
   "outputs": [
    {
     "data": {
      "text/plain": [
       "'ABQ'"
      ]
     },
     "execution_count": 250,
     "metadata": {},
     "output_type": "execute_result"
    }
   ],
   "source": [
    "airp[0]"
   ]
  },
  {
   "cell_type": "code",
   "execution_count": 251,
   "metadata": {},
   "outputs": [
    {
     "data": {
      "text/html": [
       "<div>\n",
       "<style scoped>\n",
       "    .dataframe tbody tr th:only-of-type {\n",
       "        vertical-align: middle;\n",
       "    }\n",
       "\n",
       "    .dataframe tbody tr th {\n",
       "        vertical-align: top;\n",
       "    }\n",
       "\n",
       "    .dataframe thead th {\n",
       "        text-align: right;\n",
       "    }\n",
       "</style>\n",
       "<table border=\"1\" class=\"dataframe\">\n",
       "  <thead>\n",
       "    <tr style=\"text-align: right;\">\n",
       "      <th></th>\n",
       "      <th>date</th>\n",
       "      <th>arrival_delay_minutes</th>\n",
       "      <th>origin_airport</th>\n",
       "    </tr>\n",
       "  </thead>\n",
       "  <tbody>\n",
       "    <tr>\n",
       "      <th>0</th>\n",
       "      <td>01/01/2019</td>\n",
       "      <td>-8</td>\n",
       "      <td>FAT</td>\n",
       "    </tr>\n",
       "    <tr>\n",
       "      <th>1</th>\n",
       "      <td>01/01/2019</td>\n",
       "      <td>-12</td>\n",
       "      <td>RNO</td>\n",
       "    </tr>\n",
       "    <tr>\n",
       "      <th>2</th>\n",
       "      <td>01/01/2019</td>\n",
       "      <td>0</td>\n",
       "      <td>SCK</td>\n",
       "    </tr>\n",
       "    <tr>\n",
       "      <th>3</th>\n",
       "      <td>01/01/2019</td>\n",
       "      <td>-27</td>\n",
       "      <td>BLI</td>\n",
       "    </tr>\n",
       "    <tr>\n",
       "      <th>4</th>\n",
       "      <td>01/01/2019</td>\n",
       "      <td>36</td>\n",
       "      <td>CVG</td>\n",
       "    </tr>\n",
       "    <tr>\n",
       "      <th>...</th>\n",
       "      <td>...</td>\n",
       "      <td>...</td>\n",
       "      <td>...</td>\n",
       "    </tr>\n",
       "    <tr>\n",
       "      <th>9015</th>\n",
       "      <td>12/31/2019</td>\n",
       "      <td>-1</td>\n",
       "      <td>RNO</td>\n",
       "    </tr>\n",
       "    <tr>\n",
       "      <th>9016</th>\n",
       "      <td>12/31/2019</td>\n",
       "      <td>15</td>\n",
       "      <td>SCK</td>\n",
       "    </tr>\n",
       "    <tr>\n",
       "      <th>9017</th>\n",
       "      <td>12/31/2019</td>\n",
       "      <td>-3</td>\n",
       "      <td>BOI</td>\n",
       "    </tr>\n",
       "    <tr>\n",
       "      <th>9018</th>\n",
       "      <td>12/31/2019</td>\n",
       "      <td>-20</td>\n",
       "      <td>MFR</td>\n",
       "    </tr>\n",
       "    <tr>\n",
       "      <th>9019</th>\n",
       "      <td>12/31/2019</td>\n",
       "      <td>-6</td>\n",
       "      <td>MFE</td>\n",
       "    </tr>\n",
       "  </tbody>\n",
       "</table>\n",
       "<p>9020 rows × 3 columns</p>\n",
       "</div>"
      ],
      "text/plain": [
       "            date  arrival_delay_minutes origin_airport\n",
       "0     01/01/2019                     -8            FAT\n",
       "1     01/01/2019                    -12            RNO\n",
       "2     01/01/2019                      0            SCK\n",
       "3     01/01/2019                    -27            BLI\n",
       "4     01/01/2019                     36            CVG\n",
       "...          ...                    ...            ...\n",
       "9015  12/31/2019                     -1            RNO\n",
       "9016  12/31/2019                     15            SCK\n",
       "9017  12/31/2019                     -3            BOI\n",
       "9018  12/31/2019                    -20            MFR\n",
       "9019  12/31/2019                     -6            MFE\n",
       "\n",
       "[9020 rows x 3 columns]"
      ]
     },
     "execution_count": 251,
     "metadata": {},
     "output_type": "execute_result"
    }
   ],
   "source": [
    "tab = df[df['carrier_code'] == 'G4'][['date', 'arrival_delay_minutes', 'origin_airport']]\n",
    "tab"
   ]
  },
  {
   "cell_type": "markdown",
   "metadata": {},
   "source": [
    "Вначале с помощью t-критерия проверим для двух произвольных аэропортов "
   ]
  },
  {
   "cell_type": "code",
   "execution_count": 252,
   "metadata": {},
   "outputs": [],
   "source": [
    "data_fat = np.array(tab[tab['origin_airport'] == 'FAT']['arrival_delay_minutes'])\n",
    "data_rno = np.array(tab[tab['origin_airport'] == 'RNO']['arrival_delay_minutes'])"
   ]
  },
  {
   "cell_type": "code",
   "execution_count": 253,
   "metadata": {},
   "outputs": [
    {
     "data": {
      "image/png": "[encoded data removed]",
      "text/plain": [
       "<Figure size 1728x432 with 2 Axes>"
      ]
     },
     "metadata": {
      "needs_background": "light"
     },
     "output_type": "display_data"
    }
   ],
   "source": [
    "#Нормализуем данные\n",
    "plt.figure(figsize=(24, 6))\n",
    "\n",
    "ax1 = plt.subplot(121)\n",
    "plt.hist(data_fat)\n",
    "plt.title(\"FAT\")\n",
    "\n",
    "ax2 = plt.subplot(122)\n",
    "plt.hist(data_rno)\n",
    "plt.title(\"RNO\")\n",
    "\n",
    "plt.show()"
   ]
  },
  {
   "cell_type": "code",
   "execution_count": null,
   "metadata": {},
   "outputs": [],
   "source": []
  },
  {
   "cell_type": "code",
   "execution_count": 254,
   "metadata": {},
   "outputs": [
    {
     "data": {
      "image/png": "[encoded data removed]",
      "text/plain": [
       "<Figure size 1728x432 with 2 Axes>"
      ]
     },
     "metadata": {
      "needs_background": "light"
     },
     "output_type": "display_data"
    }
   ],
   "source": [
    "#Посчитаем среднее по выборкам и сделаем наши данные нормальными\n",
    "N = len(data_fat)\n",
    "n = 200\n",
    "\n",
    "plt.figure(figsize=(24, 6))\n",
    "\n",
    "ax1 = plt.subplot(121)\n",
    "fat_means = [np.mean(np.random.choice(data_fat, n)) for _i in range(1000)]\n",
    "plt.hist(fat_means, bins = 20)\n",
    "plt.title(\"FAT\")\n",
    "\n",
    "ax2 = plt.subplot(122)\n",
    "rno_means = [np.mean(np.random.choice(data_rno, n)) for _i in range(1000)]\n",
    "plt.hist(rno_means, bins = 20)\n",
    "plt.title(\"RNO\")\n",
    "\n",
    "plt.show()"
   ]
  },
  {
   "cell_type": "code",
   "execution_count": 255,
   "metadata": {},
   "outputs": [
    {
     "data": {
      "text/plain": [
       "Ttest_indResult(statistic=2.401300561782276, pvalue=0.016427771124690977)"
      ]
     },
     "execution_count": 255,
     "metadata": {},
     "output_type": "execute_result"
    }
   ],
   "source": [
    "stats.ttest_ind(rno_means, fat_means)"
   ]
  },
  {
   "cell_type": "markdown",
   "metadata": {},
   "source": [
    "Гипотеза H0 отвегается при уровне значимости 5% "
   ]
  },
  {
   "cell_type": "markdown",
   "metadata": {},
   "source": [
    "Теперь проверим аналогичную гипотезу для нескольких аэропортов с помощью f-теста"
   ]
  },
  {
   "cell_type": "code",
   "execution_count": 256,
   "metadata": {},
   "outputs": [],
   "source": [
    "def func(tab, airp):\n",
    "    data = []\n",
    "    for i in airp:\n",
    "        first_lst = np.array(tab[tab['origin_airport'] == i]['arrival_delay_minutes'])\n",
    "        n = 200\n",
    "        lst = [np.mean(np.random.choice(first_lst, n)) for _i in range(1000)]\n",
    "        data.append(lst)\n",
    "    return data"
   ]
  },
  {
   "cell_type": "code",
   "execution_count": 257,
   "metadata": {},
   "outputs": [
    {
     "data": {
      "text/plain": [
       "55"
      ]
     },
     "execution_count": 257,
     "metadata": {},
     "output_type": "execute_result"
    }
   ],
   "source": [
    "data = func(tab, airp)\n",
    "len(data)"
   ]
  },
  {
   "cell_type": "code",
   "execution_count": 260,
   "metadata": {},
   "outputs": [
    {
     "data": {
      "text/plain": [
       "F_onewayResult(statistic=5121.55505111805, pvalue=0.0)"
      ]
     },
     "execution_count": 260,
     "metadata": {},
     "output_type": "execute_result"
    }
   ],
   "source": [
    "#В данном случае проверил для 10 аэропортов\n",
    "stats.f_oneway(data[0], data[1], data[2], data[3], data[4], data[5], data[6], data[7], data[8], data[9])"
   ]
  },
  {
   "cell_type": "markdown",
   "metadata": {},
   "source": [
    "Гипотеза H0 отвергается"
   ]
  },
  {
   "cell_type": "markdown",
   "metadata": {},
   "source": [
    "**Вторая гипотеза**: С помощью одновыборочного критерия Уилкоксона проверим, что среднее время задержки прибытия самолетов в Лас - Вегас равно -5 (именно это значение является медианой для arrival_delay_minutes)"
   ]
  },
  {
   "cell_type": "code",
   "execution_count": 261,
   "metadata": {},
   "outputs": [
    {
     "data": {
      "text/plain": [
       "-5.0"
      ]
     },
     "execution_count": 261,
     "metadata": {},
     "output_type": "execute_result"
    }
   ],
   "source": [
    "med = np.median(np.array(df.arrival_delay_minutes))\n",
    "med"
   ]
  },
  {
   "cell_type": "code",
   "execution_count": 262,
   "metadata": {},
   "outputs": [
    {
     "data": {
      "text/html": [
       "<div>\n",
       "<style scoped>\n",
       "    .dataframe tbody tr th:only-of-type {\n",
       "        vertical-align: middle;\n",
       "    }\n",
       "\n",
       "    .dataframe tbody tr th {\n",
       "        vertical-align: top;\n",
       "    }\n",
       "\n",
       "    .dataframe thead th {\n",
       "        text-align: right;\n",
       "    }\n",
       "</style>\n",
       "<table border=\"1\" class=\"dataframe\">\n",
       "  <thead>\n",
       "    <tr style=\"text-align: right;\">\n",
       "      <th></th>\n",
       "      <th>carrier_code</th>\n",
       "      <th>date</th>\n",
       "      <th>origin_airport</th>\n",
       "      <th>arrival_delay_minutes</th>\n",
       "      <th>wheels-on_time</th>\n",
       "      <th>taxi-in_time_minutes</th>\n",
       "      <th>delay_carrier_minutes</th>\n",
       "      <th>delay_weather_minutes</th>\n",
       "      <th>delay_national_aviation_system_minutes</th>\n",
       "      <th>delay_security_minutes</th>\n",
       "      <th>delay_late_aircraft_arrival_minutes</th>\n",
       "    </tr>\n",
       "  </thead>\n",
       "  <tbody>\n",
       "    <tr>\n",
       "      <th>0</th>\n",
       "      <td>G4</td>\n",
       "      <td>01/01/2019</td>\n",
       "      <td>FAT</td>\n",
       "      <td>-8</td>\n",
       "      <td>17:12</td>\n",
       "      <td>5</td>\n",
       "      <td>0</td>\n",
       "      <td>0</td>\n",
       "      <td>0</td>\n",
       "      <td>0</td>\n",
       "      <td>0</td>\n",
       "    </tr>\n",
       "    <tr>\n",
       "      <th>1</th>\n",
       "      <td>G4</td>\n",
       "      <td>01/01/2019</td>\n",
       "      <td>RNO</td>\n",
       "      <td>-12</td>\n",
       "      <td>12:07</td>\n",
       "      <td>4</td>\n",
       "      <td>0</td>\n",
       "      <td>0</td>\n",
       "      <td>0</td>\n",
       "      <td>0</td>\n",
       "      <td>0</td>\n",
       "    </tr>\n",
       "    <tr>\n",
       "      <th>2</th>\n",
       "      <td>G4</td>\n",
       "      <td>01/01/2019</td>\n",
       "      <td>SCK</td>\n",
       "      <td>0</td>\n",
       "      <td>16:22</td>\n",
       "      <td>7</td>\n",
       "      <td>0</td>\n",
       "      <td>0</td>\n",
       "      <td>0</td>\n",
       "      <td>0</td>\n",
       "      <td>0</td>\n",
       "    </tr>\n",
       "    <tr>\n",
       "      <th>3</th>\n",
       "      <td>G4</td>\n",
       "      <td>01/01/2019</td>\n",
       "      <td>BLI</td>\n",
       "      <td>-27</td>\n",
       "      <td>17:50</td>\n",
       "      <td>6</td>\n",
       "      <td>0</td>\n",
       "      <td>0</td>\n",
       "      <td>0</td>\n",
       "      <td>0</td>\n",
       "      <td>0</td>\n",
       "    </tr>\n",
       "    <tr>\n",
       "      <th>4</th>\n",
       "      <td>G4</td>\n",
       "      <td>01/01/2019</td>\n",
       "      <td>CVG</td>\n",
       "      <td>36</td>\n",
       "      <td>13:28</td>\n",
       "      <td>11</td>\n",
       "      <td>16</td>\n",
       "      <td>0</td>\n",
       "      <td>20</td>\n",
       "      <td>0</td>\n",
       "      <td>0</td>\n",
       "    </tr>\n",
       "    <tr>\n",
       "      <th>...</th>\n",
       "      <td>...</td>\n",
       "      <td>...</td>\n",
       "      <td>...</td>\n",
       "      <td>...</td>\n",
       "      <td>...</td>\n",
       "      <td>...</td>\n",
       "      <td>...</td>\n",
       "      <td>...</td>\n",
       "      <td>...</td>\n",
       "      <td>...</td>\n",
       "      <td>...</td>\n",
       "    </tr>\n",
       "    <tr>\n",
       "      <th>164040</th>\n",
       "      <td>AS</td>\n",
       "      <td>12/31/2019</td>\n",
       "      <td>SFO</td>\n",
       "      <td>-16</td>\n",
       "      <td>12:31</td>\n",
       "      <td>7</td>\n",
       "      <td>0</td>\n",
       "      <td>0</td>\n",
       "      <td>0</td>\n",
       "      <td>0</td>\n",
       "      <td>0</td>\n",
       "    </tr>\n",
       "    <tr>\n",
       "      <th>164041</th>\n",
       "      <td>AS</td>\n",
       "      <td>12/31/2019</td>\n",
       "      <td>SFO</td>\n",
       "      <td>3</td>\n",
       "      <td>16:39</td>\n",
       "      <td>8</td>\n",
       "      <td>0</td>\n",
       "      <td>0</td>\n",
       "      <td>0</td>\n",
       "      <td>0</td>\n",
       "      <td>0</td>\n",
       "    </tr>\n",
       "    <tr>\n",
       "      <th>164042</th>\n",
       "      <td>AS</td>\n",
       "      <td>12/31/2019</td>\n",
       "      <td>SFO</td>\n",
       "      <td>-16</td>\n",
       "      <td>21:17</td>\n",
       "      <td>6</td>\n",
       "      <td>0</td>\n",
       "      <td>0</td>\n",
       "      <td>0</td>\n",
       "      <td>0</td>\n",
       "      <td>0</td>\n",
       "    </tr>\n",
       "    <tr>\n",
       "      <th>164043</th>\n",
       "      <td>AS</td>\n",
       "      <td>12/31/2019</td>\n",
       "      <td>SFO</td>\n",
       "      <td>-16</td>\n",
       "      <td>18:04</td>\n",
       "      <td>9</td>\n",
       "      <td>0</td>\n",
       "      <td>0</td>\n",
       "      <td>0</td>\n",
       "      <td>0</td>\n",
       "      <td>0</td>\n",
       "    </tr>\n",
       "    <tr>\n",
       "      <th>164044</th>\n",
       "      <td>AS</td>\n",
       "      <td>12/31/2019</td>\n",
       "      <td>SEA</td>\n",
       "      <td>-9</td>\n",
       "      <td>10:30</td>\n",
       "      <td>5</td>\n",
       "      <td>0</td>\n",
       "      <td>0</td>\n",
       "      <td>0</td>\n",
       "      <td>0</td>\n",
       "      <td>0</td>\n",
       "    </tr>\n",
       "  </tbody>\n",
       "</table>\n",
       "<p>164045 rows × 11 columns</p>\n",
       "</div>"
      ],
      "text/plain": [
       "       carrier_code        date origin_airport  arrival_delay_minutes  \\\n",
       "0                G4  01/01/2019            FAT                     -8   \n",
       "1                G4  01/01/2019            RNO                    -12   \n",
       "2                G4  01/01/2019            SCK                      0   \n",
       "3                G4  01/01/2019            BLI                    -27   \n",
       "4                G4  01/01/2019            CVG                     36   \n",
       "...             ...         ...            ...                    ...   \n",
       "164040           AS  12/31/2019            SFO                    -16   \n",
       "164041           AS  12/31/2019            SFO                      3   \n",
       "164042           AS  12/31/2019            SFO                    -16   \n",
       "164043           AS  12/31/2019            SFO                    -16   \n",
       "164044           AS  12/31/2019            SEA                     -9   \n",
       "\n",
       "       wheels-on_time  taxi-in_time_minutes  delay_carrier_minutes  \\\n",
       "0               17:12                     5                      0   \n",
       "1               12:07                     4                      0   \n",
       "2               16:22                     7                      0   \n",
       "3               17:50                     6                      0   \n",
       "4               13:28                    11                     16   \n",
       "...               ...                   ...                    ...   \n",
       "164040          12:31                     7                      0   \n",
       "164041          16:39                     8                      0   \n",
       "164042          21:17                     6                      0   \n",
       "164043          18:04                     9                      0   \n",
       "164044          10:30                     5                      0   \n",
       "\n",
       "        delay_weather_minutes  delay_national_aviation_system_minutes  \\\n",
       "0                           0                                       0   \n",
       "1                           0                                       0   \n",
       "2                           0                                       0   \n",
       "3                           0                                       0   \n",
       "4                           0                                      20   \n",
       "...                       ...                                     ...   \n",
       "164040                      0                                       0   \n",
       "164041                      0                                       0   \n",
       "164042                      0                                       0   \n",
       "164043                      0                                       0   \n",
       "164044                      0                                       0   \n",
       "\n",
       "        delay_security_minutes  delay_late_aircraft_arrival_minutes  \n",
       "0                            0                                    0  \n",
       "1                            0                                    0  \n",
       "2                            0                                    0  \n",
       "3                            0                                    0  \n",
       "4                            0                                    0  \n",
       "...                        ...                                  ...  \n",
       "164040                       0                                    0  \n",
       "164041                       0                                    0  \n",
       "164042                       0                                    0  \n",
       "164043                       0                                    0  \n",
       "164044                       0                                    0  \n",
       "\n",
       "[164045 rows x 11 columns]"
      ]
     },
     "execution_count": 262,
     "metadata": {},
     "output_type": "execute_result"
    }
   ],
   "source": [
    "df"
   ]
  },
  {
   "cell_type": "code",
   "execution_count": 263,
   "metadata": {},
   "outputs": [],
   "source": [
    "arr_delay = np.array(df.arrival_delay_minutes)\n",
    "delay_means = np.array([np.mean(np.random.choice(arr_delay, 50)) for _i in range(1000)])"
   ]
  },
  {
   "cell_type": "code",
   "execution_count": 264,
   "metadata": {},
   "outputs": [
    {
     "data": {
      "text/plain": [
       "WilcoxonResult(statistic=789.0, pvalue=3.539263428997476e-164)"
      ]
     },
     "execution_count": 264,
     "metadata": {},
     "output_type": "execute_result"
    }
   ],
   "source": [
    "stats.wilcoxon(delay_means + 5)"
   ]
  },
  {
   "cell_type": "markdown",
   "metadata": {},
   "source": [
    "При уровне значимости 5% гипотеза отвергается"
   ]
  },
  {
   "cell_type": "markdown",
   "metadata": {},
   "source": [
    "### Временные ряды ###"
   ]
  },
  {
   "cell_type": "markdown",
   "metadata": {},
   "source": [
    "Сделаем предсказание на следующий день 01/01/2020 среднего времени задержки рейса для каждой авиакомпании"
   ]
  },
  {
   "cell_type": "markdown",
   "metadata": {},
   "source": [
    "Вначале подготовим данные, сгруппировав по дате и коду авиакомпании"
   ]
  },
  {
   "cell_type": "code",
   "execution_count": 268,
   "metadata": {},
   "outputs": [],
   "source": [
    "df1 = df[['carrier_code', 'date', 'arrival_delay_minutes']]\n",
    "df2 = df1.set_index('date')"
   ]
  },
  {
   "cell_type": "code",
   "execution_count": 269,
   "metadata": {},
   "outputs": [
    {
     "data": {
      "text/html": [
       "<div>\n",
       "<style scoped>\n",
       "    .dataframe tbody tr th:only-of-type {\n",
       "        vertical-align: middle;\n",
       "    }\n",
       "\n",
       "    .dataframe tbody tr th {\n",
       "        vertical-align: top;\n",
       "    }\n",
       "\n",
       "    .dataframe thead th {\n",
       "        text-align: right;\n",
       "    }\n",
       "</style>\n",
       "<table border=\"1\" class=\"dataframe\">\n",
       "  <thead>\n",
       "    <tr style=\"text-align: right;\">\n",
       "      <th></th>\n",
       "      <th></th>\n",
       "      <th>arrival_delay_minutes</th>\n",
       "      <th>taxi-in_time_minutes</th>\n",
       "      <th>delay_carrier_minutes</th>\n",
       "      <th>delay_weather_minutes</th>\n",
       "      <th>delay_national_aviation_system_minutes</th>\n",
       "      <th>delay_security_minutes</th>\n",
       "      <th>delay_late_aircraft_arrival_minutes</th>\n",
       "    </tr>\n",
       "    <tr>\n",
       "      <th>carrier_code</th>\n",
       "      <th>date</th>\n",
       "      <th></th>\n",
       "      <th></th>\n",
       "      <th></th>\n",
       "      <th></th>\n",
       "      <th></th>\n",
       "      <th></th>\n",
       "      <th></th>\n",
       "    </tr>\n",
       "  </thead>\n",
       "  <tbody>\n",
       "    <tr>\n",
       "      <th rowspan=\"5\" valign=\"top\">AA</th>\n",
       "      <th>01/01/2019</th>\n",
       "      <td>7.833333</td>\n",
       "      <td>7.111111</td>\n",
       "      <td>6.166667</td>\n",
       "      <td>0.305556</td>\n",
       "      <td>1.222222</td>\n",
       "      <td>0.0</td>\n",
       "      <td>3.222222</td>\n",
       "    </tr>\n",
       "    <tr>\n",
       "      <th>01/02/2019</th>\n",
       "      <td>4.121951</td>\n",
       "      <td>9.463415</td>\n",
       "      <td>2.853659</td>\n",
       "      <td>1.195122</td>\n",
       "      <td>1.073171</td>\n",
       "      <td>0.0</td>\n",
       "      <td>1.975610</td>\n",
       "    </tr>\n",
       "    <tr>\n",
       "      <th>01/03/2019</th>\n",
       "      <td>0.450000</td>\n",
       "      <td>9.400000</td>\n",
       "      <td>7.975000</td>\n",
       "      <td>0.425000</td>\n",
       "      <td>1.250000</td>\n",
       "      <td>0.0</td>\n",
       "      <td>0.375000</td>\n",
       "    </tr>\n",
       "    <tr>\n",
       "      <th>01/04/2019</th>\n",
       "      <td>-2.902439</td>\n",
       "      <td>8.073171</td>\n",
       "      <td>5.414634</td>\n",
       "      <td>0.000000</td>\n",
       "      <td>0.219512</td>\n",
       "      <td>0.0</td>\n",
       "      <td>0.658537</td>\n",
       "    </tr>\n",
       "    <tr>\n",
       "      <th>01/05/2019</th>\n",
       "      <td>4.027027</td>\n",
       "      <td>8.297297</td>\n",
       "      <td>5.054054</td>\n",
       "      <td>0.000000</td>\n",
       "      <td>1.405405</td>\n",
       "      <td>0.0</td>\n",
       "      <td>1.081081</td>\n",
       "    </tr>\n",
       "    <tr>\n",
       "      <th>...</th>\n",
       "      <th>...</th>\n",
       "      <td>...</td>\n",
       "      <td>...</td>\n",
       "      <td>...</td>\n",
       "      <td>...</td>\n",
       "      <td>...</td>\n",
       "      <td>...</td>\n",
       "      <td>...</td>\n",
       "    </tr>\n",
       "    <tr>\n",
       "      <th rowspan=\"5\" valign=\"top\">WN</th>\n",
       "      <th>12/27/2019</th>\n",
       "      <td>6.585366</td>\n",
       "      <td>5.262195</td>\n",
       "      <td>3.445122</td>\n",
       "      <td>0.158537</td>\n",
       "      <td>1.158537</td>\n",
       "      <td>0.0</td>\n",
       "      <td>6.445122</td>\n",
       "    </tr>\n",
       "    <tr>\n",
       "      <th>12/28/2019</th>\n",
       "      <td>17.686391</td>\n",
       "      <td>5.331361</td>\n",
       "      <td>6.508876</td>\n",
       "      <td>0.000000</td>\n",
       "      <td>0.325444</td>\n",
       "      <td>0.0</td>\n",
       "      <td>15.106509</td>\n",
       "    </tr>\n",
       "    <tr>\n",
       "      <th>12/29/2019</th>\n",
       "      <td>2.171598</td>\n",
       "      <td>5.633136</td>\n",
       "      <td>2.656805</td>\n",
       "      <td>0.000000</td>\n",
       "      <td>0.721893</td>\n",
       "      <td>0.0</td>\n",
       "      <td>6.366864</td>\n",
       "    </tr>\n",
       "    <tr>\n",
       "      <th>12/30/2019</th>\n",
       "      <td>3.335366</td>\n",
       "      <td>5.560976</td>\n",
       "      <td>2.774390</td>\n",
       "      <td>0.000000</td>\n",
       "      <td>0.634146</td>\n",
       "      <td>0.0</td>\n",
       "      <td>5.993902</td>\n",
       "    </tr>\n",
       "    <tr>\n",
       "      <th>12/31/2019</th>\n",
       "      <td>-5.448718</td>\n",
       "      <td>5.256410</td>\n",
       "      <td>1.525641</td>\n",
       "      <td>0.000000</td>\n",
       "      <td>0.653846</td>\n",
       "      <td>0.0</td>\n",
       "      <td>1.923077</td>\n",
       "    </tr>\n",
       "  </tbody>\n",
       "</table>\n",
       "<p>4013 rows × 7 columns</p>\n",
       "</div>"
      ],
      "text/plain": [
       "                         arrival_delay_minutes  taxi-in_time_minutes  \\\n",
       "carrier_code date                                                      \n",
       "AA           01/01/2019               7.833333              7.111111   \n",
       "             01/02/2019               4.121951              9.463415   \n",
       "             01/03/2019               0.450000              9.400000   \n",
       "             01/04/2019              -2.902439              8.073171   \n",
       "             01/05/2019               4.027027              8.297297   \n",
       "...                                        ...                   ...   \n",
       "WN           12/27/2019               6.585366              5.262195   \n",
       "             12/28/2019              17.686391              5.331361   \n",
       "             12/29/2019               2.171598              5.633136   \n",
       "             12/30/2019               3.335366              5.560976   \n",
       "             12/31/2019              -5.448718              5.256410   \n",
       "\n",
       "                         delay_carrier_minutes  delay_weather_minutes  \\\n",
       "carrier_code date                                                       \n",
       "AA           01/01/2019               6.166667               0.305556   \n",
       "             01/02/2019               2.853659               1.195122   \n",
       "             01/03/2019               7.975000               0.425000   \n",
       "             01/04/2019               5.414634               0.000000   \n",
       "             01/05/2019               5.054054               0.000000   \n",
       "...                                        ...                    ...   \n",
       "WN           12/27/2019               3.445122               0.158537   \n",
       "             12/28/2019               6.508876               0.000000   \n",
       "             12/29/2019               2.656805               0.000000   \n",
       "             12/30/2019               2.774390               0.000000   \n",
       "             12/31/2019               1.525641               0.000000   \n",
       "\n",
       "                         delay_national_aviation_system_minutes  \\\n",
       "carrier_code date                                                 \n",
       "AA           01/01/2019                                1.222222   \n",
       "             01/02/2019                                1.073171   \n",
       "             01/03/2019                                1.250000   \n",
       "             01/04/2019                                0.219512   \n",
       "             01/05/2019                                1.405405   \n",
       "...                                                         ...   \n",
       "WN           12/27/2019                                1.158537   \n",
       "             12/28/2019                                0.325444   \n",
       "             12/29/2019                                0.721893   \n",
       "             12/30/2019                                0.634146   \n",
       "             12/31/2019                                0.653846   \n",
       "\n",
       "                         delay_security_minutes  \\\n",
       "carrier_code date                                 \n",
       "AA           01/01/2019                     0.0   \n",
       "             01/02/2019                     0.0   \n",
       "             01/03/2019                     0.0   \n",
       "             01/04/2019                     0.0   \n",
       "             01/05/2019                     0.0   \n",
       "...                                         ...   \n",
       "WN           12/27/2019                     0.0   \n",
       "             12/28/2019                     0.0   \n",
       "             12/29/2019                     0.0   \n",
       "             12/30/2019                     0.0   \n",
       "             12/31/2019                     0.0   \n",
       "\n",
       "                         delay_late_aircraft_arrival_minutes  \n",
       "carrier_code date                                             \n",
       "AA           01/01/2019                             3.222222  \n",
       "             01/02/2019                             1.975610  \n",
       "             01/03/2019                             0.375000  \n",
       "             01/04/2019                             0.658537  \n",
       "             01/05/2019                             1.081081  \n",
       "...                                                      ...  \n",
       "WN           12/27/2019                             6.445122  \n",
       "             12/28/2019                            15.106509  \n",
       "             12/29/2019                             6.366864  \n",
       "             12/30/2019                             5.993902  \n",
       "             12/31/2019                             1.923077  \n",
       "\n",
       "[4013 rows x 7 columns]"
      ]
     },
     "execution_count": 269,
     "metadata": {},
     "output_type": "execute_result"
    }
   ],
   "source": [
    "new_df = df.groupby(by=['carrier_code', 'date']).mean()\n",
    "new_df"
   ]
  },
  {
   "cell_type": "markdown",
   "metadata": {},
   "source": [
    "Теперь сделаем так, чтобы для каждой даты столбцы carrier_code и arrival_delay_minutes были непустыми. Если в этот день та или иная авиакомпания не летала, то пусть ее время задержки будет равно нулю."
   ]
  },
  {
   "cell_type": "code",
   "execution_count": 270,
   "metadata": {},
   "outputs": [
    {
     "data": {
      "text/plain": [
       "{'AA', 'AS', 'B6', 'DL', 'F9', 'G4', 'HA', 'NK', 'OO', 'UA', 'WN'}"
      ]
     },
     "execution_count": 270,
     "metadata": {},
     "output_type": "execute_result"
    }
   ],
   "source": [
    "#Получили список авиакомпаний\n",
    "ind = set(df.carrier_code.unique())\n",
    "ind"
   ]
  },
  {
   "cell_type": "code",
   "execution_count": 271,
   "metadata": {},
   "outputs": [
    {
     "data": {
      "text/plain": [
       "365"
      ]
     },
     "execution_count": 271,
     "metadata": {},
     "output_type": "execute_result"
    }
   ],
   "source": [
    "dates = df.date.unique()\n",
    "num_date = len(df.date.unique())\n",
    "num_date"
   ]
  },
  {
   "cell_type": "markdown",
   "metadata": {},
   "source": [
    "Будем сравнивать между собой три модели: двойное экспоненциальное сглаживание, тройное экспоненциальное сглаживание и линейную регрессию"
   ]
  },
  {
   "cell_type": "code",
   "execution_count": 288,
   "metadata": {},
   "outputs": [
    {
     "name": "stdout",
     "output_type": "stream",
     "text": [
      "val =  [-16.0, 6.208333333333333, -37.09090909090909, -2.0, -3.1818181818181817, -5.448717948717949, 2.0294117647058822, -19.4, 7.166666666666667, 17.666666666666668, -19.76]\n",
      "res1_err =  80.92027411317858\n",
      "res2_err =  208.8167380661579\n",
      "res3_err =  275.99931334907683\n"
     ]
    }
   ],
   "source": [
    "#Проведем валидацию\n",
    "from sklearn.linear_model import LinearRegression\n",
    "from statsmodels.tsa.api import ExponentialSmoothing, Holt\n",
    "\n",
    "#В качестве метрики использую MAPE\n",
    "def mean_absolute_percentage_error(y_true, y_pred): \n",
    "    y_true = np.asarray(y_true)\n",
    "    y_pred = np.asarray(y_pred)\n",
    "    return np.mean(np.abs((y_true - y_pred) / y_true)) * 100\n",
    "\n",
    "res1 = []\n",
    "res2 = []\n",
    "res3 = []\n",
    "val = []\n",
    "for i in ind:\n",
    "    ds = new_df.loc[i]\n",
    "\n",
    "    #Написание признаков\n",
    "    ds['label'] = 'train'\n",
    "    ds.iloc[-1:]['label'] = 'test'\n",
    "    ds['target'] = np.where(ds.label == 'train', ds.arrival_delay_minutes, np.nan)\n",
    "\n",
    "    lag_period = 1\n",
    "    features = ['taxi-in_time_minutes', 'delay_carrier_minutes', 'delay_weather_minutes',\n",
    "                'delay_national_aviation_system_minutes', 'delay_security_minutes',\n",
    "                'delay_late_aircraft_arrival_minutes']\n",
    "    for period_mult in range(1, 10):\n",
    "        ds['feature{}'.format(period_mult)] = ds.target.shift(period_mult*lag_period)\n",
    "        features.append('feature{}'.format(period_mult))\n",
    "    ds['feat_mean'] = ds[features].mean(axis=1)\n",
    "    features.extend(['feat_mean'])\n",
    "\n",
    "    mdl = LinearRegression()\n",
    "    train = ds[ds.label == 'train'][features + ['target']].dropna()\n",
    "    test = ds[ds.label == 'test'][features]\n",
    "    mdl.fit(train.drop(['target'], axis=1), train['target'])\n",
    "    y_pred = mdl.predict(test)[0]\n",
    "    res1.append(y_pred)\n",
    "    y_true = ds.iloc[-1].arrival_delay_minutes\n",
    "    val.append(y_true)\n",
    "\n",
    "\n",
    "    fit1 = ExponentialSmoothing(np.asarray(ds.iloc[:-1].arrival_delay_minutes) ,seasonal_periods=90 ,trend='add', seasonal='add',).fit()\n",
    "    forecast = pd.Series(fit1.forecast(1))[0]\n",
    "    res2.append(forecast)\n",
    "\n",
    "    fit = Holt(np.asarray(ds.iloc[:-1].arrival_delay_minutes)).fit(smoothing_level = 0.4,smoothing_slope = 0.2)\n",
    "    f = fit.forecast(2)[1]\n",
    "    res3.append(f)\n",
    "\n",
    "print(\"val = \", val)\n",
    "print(\"res1_err = \", mean_absolute_percentage_error(val, res1))\n",
    "print(\"res2_err = \", mean_absolute_percentage_error(val, res2))\n",
    "print(\"res3_err = \", mean_absolute_percentage_error(val, res3))"
   ]
  },
  {
   "cell_type": "markdown",
   "metadata": {},
   "source": [
    "Лучше всего себя показала линейная регрессия"
   ]
  },
  {
   "cell_type": "code",
   "execution_count": 289,
   "metadata": {},
   "outputs": [
    {
     "name": "stdout",
     "output_type": "stream",
     "text": [
      "mae_err =  7.152919673020019\n",
      "rmse_err =  9.882584130665641\n"
     ]
    }
   ],
   "source": [
    "print(\"mae_err = \", np.mean(abs(np.asarray(res1) - np.asarray(val))))\n",
    "print(\"rmse_err = \", (np.mean((np.asarray(res1) - np.asarray(val)) ** 2)) ** 0.5)      "
   ]
  },
  {
   "cell_type": "code",
   "execution_count": 290,
   "metadata": {},
   "outputs": [
    {
     "name": "stdout",
     "output_type": "stream",
     "text": [
      "[-16.0, 6.208333333333333, -37.09090909090909, -2.0, -3.1818181818181817, -5.448717948717949, 2.0294117647058822, -19.4, 7.166666666666667, 17.666666666666668, -19.76]\n"
     ]
    }
   ],
   "source": [
    "#Истинные значения последнего дня\n",
    "print(val)"
   ]
  },
  {
   "cell_type": "code",
   "execution_count": 291,
   "metadata": {},
   "outputs": [
    {
     "name": "stdout",
     "output_type": "stream",
     "text": [
      "[-8.46939067102921, 10.606357198647153, -11.944038883207863, -5.9955064422393844, -0.7164456734219646, -2.24542324504345, 6.144377679999247, -7.627370088287078, 9.805539308501483, 18.006229532904705, -6.683591988154882]\n"
     ]
    }
   ],
   "source": [
    "#Предсказанные значения последнего дня\n",
    "print(res1)"
   ]
  },
  {
   "cell_type": "code",
   "execution_count": null,
   "metadata": {},
   "outputs": [],
   "source": []
  }
 ],
 "metadata": {
  "kernelspec": {
   "display_name": "Python 3.6 (tensorflow)",
   "language": "python",
   "name": "tensorflow"
  },
  "language_info": {
   "codemirror_mode": {
    "name": "ipython",
    "version": 3
   },
   "file_extension": ".py",
   "mimetype": "text/x-python",
   "name": "python",
   "nbconvert_exporter": "python",
   "pygments_lexer": "ipython3",
   "version": "3.7.7"
  }
 },
 "nbformat": 4,
 "nbformat_minor": 4
}
